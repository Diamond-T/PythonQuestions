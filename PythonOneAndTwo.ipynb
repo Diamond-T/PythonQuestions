{
 "cells": [
  {
   "cell_type": "code",
   "execution_count": null,
   "id": "862ff6ba",
   "metadata": {},
   "outputs": [],
   "source": [
    "# Given an array of integers nums and an integer target, \n",
    "#return indices of the two numbers such that they add up to target. Y\n",
    "#you may assume that each input would have exactly one solution, a\n",
    "#and you may not use the same element twice. \n",
    "#You can return the answer in any order.\n",
    "\n",
    "# Input: nums = [2,7,11,15], target = 9\n",
    "# Output: [0,1]\n",
    "# Output: Because nums[0] + nums[1] == 9, we return [0, 1].\n",
    "\n",
    "# Input: nums = [3,2,4], target = 6\n",
    "# Output: [1,2]\n",
    "\n",
    "# Input: nums = [3,3], target = 6\n",
    "# Output: [0,1]"
   ]
  },
  {
   "cell_type": "code",
   "execution_count": null,
   "id": "ae6fc1a0",
   "metadata": {},
   "outputs": [],
   "source": [
    "#I am given an list of numbers\n",
    "#Create two paramenets num and target\n",
    "#they are both integers\n",
    "#Indices is the location of something in an array and return only two numbers\n",
    "# the two numbers must add up to the target\n",
    "#The output must return two numbers\n",
    "# For output 2 example index 1 plus index 2 equals 6,  2+ 4 = 6\n",
    "#For output 3  idex 0 + 3 = 3 +3 which equals 6\n",
    "# I can NOT return the same element twice"
   ]
  },
  {
   "cell_type": "code",
   "execution_count": null,
   "id": "3316720a",
   "metadata": {},
   "outputs": [],
   "source": [
    "def indices (int_num, int_target);\n",
    "nums = [2,7,11,15]\n",
    "#for in in range the lenght of the list\n",
    "for i in range(len(nums)):\n",
    "    "
   ]
  },
  {
   "cell_type": "code",
   "execution_count": null,
   "id": "225a4e47",
   "metadata": {},
   "outputs": [],
   "source": [
    "\n",
    "# Given a non-empty array of integers nums, every element appears twice except for one. \n",
    "#Find that single one. \n",
    "#You must implement a solution with a linear runtime complexity \n",
    "#and use only constant extra space.\n",
    "\n",
    "# Input:nums = [2,2,1]\n",
    "# Output: 1 \n",
    "\n",
    "# Input: nums = [4,1,2,1,2]\n",
    "# Output: 4\n",
    "\n",
    "# Input: nums = [1]\n",
    "# Output: 1"
   ]
  },
  {
   "cell_type": "code",
   "execution_count": 5,
   "id": "7efc2b3a",
   "metadata": {
    "scrolled": true
   },
   "outputs": [],
   "source": [
    "#the arry of whole numbers cannot be empty\n",
    "#each element appears twice but one\n",
    "#For example list 1 only one appears once\n",
    "#list 2 only four appears once\n",
    "#list one only one item in the list appears one\n",
    "#I must use linear to find the element that is not being used twice\n",
    "# maybe a loop to loop through each number to find the one that is not repeating twice\n",
    "def integer(non_repeat):\n",
    "    count = {}\n",
    "    for repeating_numbers in non_repeat:\n",
    "            if rpin non_repeat:\n",
    "             \n",
    "    return integer\n",
    "\n",
    "    \n",
    "    \n",
    "    \n",
    "    "
   ]
  },
  {
   "cell_type": "code",
   "execution_count": null,
   "id": "21c29c10",
   "metadata": {},
   "outputs": [],
   "source": []
  }
 ],
 "metadata": {
  "kernelspec": {
   "display_name": "Python 3",
   "language": "python",
   "name": "python3"
  },
  "language_info": {
   "codemirror_mode": {
    "name": "ipython",
    "version": 3
   },
   "file_extension": ".py",
   "mimetype": "text/x-python",
   "name": "python",
   "nbconvert_exporter": "python",
   "pygments_lexer": "ipython3",
   "version": "3.8.8"
  }
 },
 "nbformat": 4,
 "nbformat_minor": 5
}
